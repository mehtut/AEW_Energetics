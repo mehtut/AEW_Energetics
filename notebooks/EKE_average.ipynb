{
 "cells": [
  {
   "cell_type": "code",
   "execution_count": null,
   "id": "1bcd2398-a192-445b-8ee2-156d572ed041",
   "metadata": {},
   "outputs": [],
   "source": [
    "import asyncio\n",
    "import os\n",
    "import time\n",
    "import traceback\n",
    "\n",
    "import IPython.display as display\n",
    "import matplotlib.pyplot as plt\n",
    "import numpy as np\n",
    "import xarray as xr\n",
    "\n",
    "import dask\n",
    "from dask.distributed import LocalCluster, Client, progress\n",
    "\n",
    "from wrf_eke_example import get_data, crop_lat_lon, calc_averages, plot_coords, plot_eke_avg"
   ]
  },
  {
   "cell_type": "code",
   "execution_count": null,
   "id": "0da01413-d4a4-4c82-b6af-bc72888e698a",
   "metadata": {},
   "outputs": [],
   "source": [
    "scratch_path=os.path.expandvars(\"$SCRATCH\")\n",
    "input_path=os.path.join(scratch_path, \"scira/wrf_in/\")\n",
    "scenario_type=\"Historical\"\n",
    "dataset = \"wrfout_d01_2008-07-01_00_00_00\"\n",
    "lat_lon_path = os.path.join(input_path, scenario_type, dataset)\n",
    "\n",
    "years = [y for y in range(2001,2011)]\n",
    "chunks = {\"time\": -1, \"lev\": 1}\n",
    "\n",
    "file_locations = [os.path.join(input_path, scenario_type, \"{}-{}\".format(year, year+1), \"Variables\") for year in years]\n",
    "file_suffixes = [f'{scenario_type}_{year}.nc' for year in years]\n",
    "yearly_chunks = [chunks for year in years]"
   ]
  },
  {
   "cell_type": "markdown",
   "id": "a2d5fc3e-03cf-462f-85fb-77248c55a9c1",
   "metadata": {
    "tags": []
   },
   "source": [
    "## Preview the data extent and region of interest"
   ]
  },
  {
   "cell_type": "code",
   "execution_count": null,
   "id": "49ad88c7-48c9-44fe-adcf-7f3b7e421f2c",
   "metadata": {},
   "outputs": [],
   "source": [
    "# get cropped lat and lon\n",
    "lat, lon, lat_index_north, lat_index_south, lon_index_west, lon_index_east = crop_lat_lon(lat_lon_path)\n",
    "\n",
    "# preview the extent and region of interest for the eke_avg calculation\n",
    "cfig, cax = plot_coords(lat, lon, bbox=(-20,0,20,20))"
   ]
  },
  {
   "cell_type": "markdown",
   "id": "8b36c20b-7bc6-408a-a6c2-b41e66817730",
   "metadata": {},
   "source": [
    "## Connect to the dask cluster and get a link to the dashboard for status"
   ]
  },
  {
   "cell_type": "code",
   "execution_count": null,
   "id": "97729e18-872b-4648-826a-2b91fc23b543",
   "metadata": {},
   "outputs": [],
   "source": [
    "#dask.config.config[\"distributed\"][\"dashboard\"][\"link\"] = \"{JUPYTERHUB_SERVICE_PREFIX}proxy/{host}:{port}/status\" \n",
    "\n",
    "cluster = LocalCluster(n_workers=3, threads_per_worker=1, memory_limit='4G', local_directory='/Volumes/T7/tmp/')\n",
    "dask_client = Client(cluster)\n",
    "display.display(dask_client)\n",
    "\n",
    "#file_path = os.path.abspath('../dask_client')\n",
    "\n",
    "#if os.path.exists(file_path):\n",
    "#    with open(file_path, 'r') as location:\n",
    "#        info = location.read().strip()\n",
    "\n",
    "#dask_client = Client(scheduler_file=info)\n",
    "#display.display(dask_client)"
   ]
  },
  {
   "cell_type": "markdown",
   "id": "5f2b7fc1-e599-4622-b839-dac34d957956",
   "metadata": {},
   "source": [
    "## Scatter data to the dask workers"
   ]
  },
  {
   "cell_type": "code",
   "execution_count": null,
   "id": "66542c39-b316-4596-b1a5-2b4b57b8920e",
   "metadata": {},
   "outputs": [],
   "source": [
    "# get file handles and scatter data to dask, data will be loaded lazily during computation\n",
    "data_refs = [x.result() for x in dask_client.map(get_data, file_locations, file_suffixes, yearly_chunks)]\n",
    "data_futures = dask_client.scatter(data_refs)\n",
    "data = data_futures\n",
    "\n",
    "import wrf_eke_example\n",
    "lat, lon, lat_index_north, lat_index_south, lon_index_west, lon_index_east = wrf_eke_example.eke.crop_lat_lon(lat_lon_path)\n",
    "\n",
    "# uncomment this if you have a cluster with ample memory to store data\n",
    "# persist will keep this data in memory on the workers after being read from disk the first time, this will make multiple runs or additional computation faster\n",
    "#data_scattered_refs = [(x[0].persist(),x[1].persist()) for x in dask_client.gather(data_futures)]\n",
    "#data = data_scattered_refs"
   ]
  },
  {
   "cell_type": "markdown",
   "id": "3f02f961-1ce1-4704-9878-7b070dda1658",
   "metadata": {},
   "source": [
    "## Calculate the results using dask and xarray"
   ]
  },
  {
   "cell_type": "code",
   "execution_count": null,
   "id": "90658f28-aedc-40c0-93a4-dc9ddc7dc45e",
   "metadata": {},
   "outputs": [],
   "source": [
    "try:\n",
    "    print(\"Calculating eke_avg and total_eke_avg for {}\".format(years))\n",
    "    eke_futures = []\n",
    "    results = []\n",
    "    # get a yearly average\n",
    "    for i in range(len(years)):\n",
    "        eke_futures.append(\n",
    "            dask_client.submit(\n",
    "                calc_averages,\n",
    "                [data[i]], \n",
    "                lat_index_north, \n",
    "                lat_index_south, \n",
    "                lon_index_west, \n",
    "                lon_index_east,\n",
    "                priority=10-i))\n",
    "except Exception as e:\n",
    "    print(\"Exception for years: {}, chunks: {}\".format(years, chunks))\n",
    "    print(e)\n",
    "    traceback.print_tb(e.__traceback__)"
   ]
  },
  {
   "cell_type": "markdown",
   "id": "32e3aabe-7688-4059-a55c-24d5f3e8c4ad",
   "metadata": {},
   "source": [
    "## Wait for tasks to complete, display the data for each year as it arrives"
   ]
  },
  {
   "cell_type": "code",
   "execution_count": null,
   "id": "de7bb404-e40d-481a-9741-8a1f8ca97f0f",
   "metadata": {},
   "outputs": [],
   "source": [
    "display.display(progress(eke_futures, notebook=True))\n",
    "\n",
    "eke_averages = []\n",
    "total_eke_averages = []\n",
    "\n",
    "waiting = [i for i in range(len(eke_futures))]\n",
    "while len(waiting) > 0:\n",
    "    completed = []\n",
    "\n",
    "    for i in waiting:\n",
    "        if eke_futures[i].done():\n",
    "            # collect the data and show it\n",
    "            eke_avg_year, total_avg_year = eke_futures[i].result()\n",
    "            eke_averages.append((eke_avg_year, i))\n",
    "            total_eke_averages.append((total_avg_year, i))\n",
    "            print(\"Total EKE {} - {}\".format(years[i], total_avg_year))\n",
    "            fig, ax = plot_eke_avg(\n",
    "                eke_avg_year, \n",
    "                lat, \n",
    "                title='WRF_TCM_M-O_{}-{}_avg_{}_EKE'.format(years[i], years[i]+1, scenario_type), \n",
    "                size=(10,8))\n",
    "            # bypass plot.show() so we can make sure plots show as data comes in\n",
    "            display.display(fig)\n",
    "            # close the figure for memory cleanup but also to prevent matplotlib from displaying twice\n",
    "            plt.close(fig)\n",
    "            # add some vertical space\n",
    "            print(\"\\n\\n\")\n",
    "            # book keeping\n",
    "            completed.append(i)\n",
    "\n",
    "    # stop checking futures that we have collected results for\n",
    "    for i in completed:\n",
    "        waiting.remove(i)\n",
    "\n",
    "    # sleep and give time back to the kernel without blocking\n",
    "    if len(waiting) > 0:\n",
    "        await asyncio.sleep(10)\n",
    "\n",
    "# sort the results by year\n",
    "sorted(eke_averages, key=lambda x: x[1])\n",
    "sorted(total_eke_averages, key=lambda x: x[1])\n",
    "\n",
    "# remove the index values\n",
    "eke_averages = [x[0] for x in eke_averages]\n",
    "total_eke_averages = [x[0] for x in total_eke_averages]"
   ]
  },
  {
   "cell_type": "markdown",
   "id": "8ac2b7e6-3c75-48ce-b5ef-2c6a616b86af",
   "metadata": {},
   "source": [
    "## Show yearly averages in order, combined"
   ]
  },
  {
   "cell_type": "code",
   "execution_count": null,
   "id": "4030a18c-c75a-43fe-a2fe-3f6cc319f79c",
   "metadata": {},
   "outputs": [],
   "source": [
    "figsize=(20,10)\n",
    "\n",
    "# plot total_eke_avg per year\n",
    "tfig, ax = plt.subplots(figsize=figsize)\n",
    "ax.set_title('Total EKE Average by year')\n",
    "plt.xlabel(\"Year\")\n",
    "plt.ylabel(\"Total EKE Average\")\n",
    "plt.minorticks_on()\n",
    "plt.xlim((2000,2011))\n",
    "plt.scatter(years, total_eke_averages)\n",
    "\n",
    "efig, axs = plt.subplots(2, 5, figsize=figsize)\n",
    "efig.tight_layout()\n",
    "\n",
    "eke_avg_figs = []\n",
    "# plot eke_avg per year\n",
    "for i in range(len(eke_averages)):\n",
    "    plot_eke_avg(\n",
    "        eke_averages[i], lat, title='WRF_TCM_M-O_{}_avg_{}_EKE'.format(years[i], scenario_type), size=figsize, fig=efig, ax=axs.flat[i])"
   ]
  },
  {
   "cell_type": "markdown",
   "id": "0b2a1dc6-a27a-4a80-a6ef-700f12ec7718",
   "metadata": {},
   "source": [
    "## Show the 10 year average"
   ]
  },
  {
   "cell_type": "code",
   "execution_count": null,
   "id": "55b47f08-7cd7-40d5-8e81-94be0c902789",
   "metadata": {},
   "outputs": [],
   "source": [
    "eke_avg = np.stack(eke_averages).mean(axis=0)\n",
    "total_eke_avg = np.mean(total_eke_averages)\n",
    "print(\"Total EKE - {}\".format(total_eke_avg))\n",
    "\n",
    "fig, ax = plot_eke_avg(eke_avg, lat, title='WRF_TCM_M-O_{}-{}_avg_{}_EKE'.format(years[0],years[-1]+1, scenario_type), size=(20,15))"
   ]
  },
  {
   "cell_type": "markdown",
   "id": "16bbf1aa-08c9-4239-8496-a09ba15973d0",
   "metadata": {},
   "source": [
    "## Save the computation result to a file"
   ]
  },
  {
   "cell_type": "code",
   "execution_count": null,
   "id": "72a21d97-bb33-43a7-bcf2-a6da873a63d7",
   "metadata": {},
   "outputs": [],
   "source": [
    "import datetime\n",
    "results_filename = 'yearly_eke_averages_{}-{}.nc'.format(years[0],years[-1]+1)\n",
    "\n",
    "u_filenames = []\n",
    "v_filenames = []\n",
    "for i in range(len(file_locations)):\n",
    "    u_filenames.append(os.path.join(file_locations[i], \"ua_\" + file_suffixes[i]))\n",
    "    v_filenames.append(os.path.join(file_locations[i], \"va_\" + file_suffixes[i]))\n",
    "\n",
    "years_array = np.asarray(years)\n",
    "eke_array = np.stack(eke_averages)\n",
    "total_eke_array = np.asarray(total_eke_averages)\n",
    "\n",
    "results = xr.Dataset(\n",
    "    data_vars={\n",
    "        \"years\": xr.DataArray(data=years_array, dims=(\"year\")),\n",
    "        \"eke_avg\": xr.DataArray(data=eke_array, dims=(\"year\", \"lev\", \"lat\")), \n",
    "        \"total_eke_avg\": xr.DataArray(data=total_eke_array, dims=(\"year\")),\n",
    "        \"u_source_files\": xr.DataArray(data=u_filenames, dims=(\"year\")),\n",
    "        \"v_source_files\": xr.DataArray(data=v_filenames, dims=(\"year\"))\n",
    "    },\n",
    "    attrs={\n",
    "        \"created\": datetime.datetime.now().astimezone().isoformat()\n",
    "    })\n",
    "results.to_netcdf(results_filename)"
   ]
  },
  {
   "cell_type": "code",
   "execution_count": null,
   "id": "b8560f56-9d57-48d9-9c6b-5cb55d35076f",
   "metadata": {},
   "outputs": [],
   "source": [
    "with xr.open_dataset(results_filename) as results:\n",
    "    display.display(results)"
   ]
  },
  {
   "cell_type": "markdown",
   "id": "2fa4e86b-600c-42f6-9725-809f6650526e",
   "metadata": {},
   "source": [
    "## Save the final plot"
   ]
  },
  {
   "cell_type": "code",
   "execution_count": null,
   "id": "b828fcee-40c3-4a6a-ade0-57c9da4abe4d",
   "metadata": {},
   "outputs": [],
   "source": [
    "fig.savefig('WRF_TCM_M-O_{}-{}_avg_{}_EKE.pdf'.format(years[0], years[-1], scenario_type))"
   ]
  },
  {
   "cell_type": "code",
   "execution_count": null,
   "id": "619da5eb-1094-45e8-996a-29484fc6a473",
   "metadata": {},
   "outputs": [],
   "source": [
    "dask_client.shutdown()\n",
    "dask_client.close()"
   ]
  }
 ],
 "metadata": {
  "kernelspec": {
   "display_name": "Python 3 (ipykernel)",
   "language": "python",
   "name": "python3"
  },
  "language_info": {
   "codemirror_mode": {
    "name": "ipython",
    "version": 3
   },
   "file_extension": ".py",
   "mimetype": "text/x-python",
   "name": "python",
   "nbconvert_exporter": "python",
   "pygments_lexer": "ipython3",
   "version": "3.10.4"
  }
 },
 "nbformat": 4,
 "nbformat_minor": 5
}
